{
 "cells": [
  {
   "cell_type": "markdown",
   "id": "8a642f7b-cc39-4842-a090-a4c439aa6db0",
   "metadata": {},
   "source": [
    "# 6 march assignment"
   ]
  },
  {
   "cell_type": "markdown",
   "id": "9de56e70-7d57-4bcf-8f16-6e8c9c2ff3de",
   "metadata": {},
   "source": [
    "# statistics"
   ]
  },
  {
   "cell_type": "markdown",
   "id": "b1c8bba8-5d10-4dbe-8664-d94d4317c31e",
   "metadata": {},
   "source": [
    "# Answer-1"
   ]
  },
  {
   "cell_type": "code",
   "execution_count": 2,
   "id": "d38ca1d4-b72c-4e29-a179-b3f120d41d7a",
   "metadata": {},
   "outputs": [],
   "source": [
    "# Statistics is the study of the collection, analysis, interpretation, presentation, and organization of data. In other words, it is a\n",
    "# mathematical discipline to collect, summarize data. Also, we can say that statistics is a branch of applied mathematics. However, there are\n",
    "# two important and basic ideas involved in statistics; they are uncertainty and variation. The uncertainty and variation in different fields \n",
    "# can be determined only through statistical analysis. These uncertainties are basically determined by the probability that plays an important\n",
    "# role in statistics. "
   ]
  },
  {
   "cell_type": "markdown",
   "id": "67654abc-2a97-42d7-8920-87999cb02518",
   "metadata": {},
   "source": [
    "# Answer-2"
   ]
  },
  {
   "cell_type": "code",
   "execution_count": 3,
   "id": "decece78-8eff-4b3f-b263-12de10392430",
   "metadata": {},
   "outputs": [],
   "source": [
    "# Statistics is mainly divided into the following two categories. \n",
    "\n",
    "# Descriptive Statistics\n",
    "# Inferential Statistics\n",
    "\n",
    "# In the descriptive Statistics, the Data is described in a summarized way. The summarization is done from the sample of the population \n",
    "# using different parameters like Mean or standard deviation. Descriptive Statistics are a way of using charts, graphs, and summary measures \n",
    "# to organize, represent, and explain a set of Data. \n",
    "# Data is typically arranged and displayed in tables or graphs summarizing details such as histograms, pie charts, bars or scatter plots.\n",
    "# Descriptive Statistics are just descriptive and thus do not require normalization beyond the Data collected.\n",
    "\n",
    "# In the Inferential Statistics, we try to interpret the Meaning of descriptive Statistics. After the Data has been collected, analyzed,\n",
    "# and summarised we use Inferential Statistics to describe the Meaning of the collected Data. \n",
    "# Inferential Statistics use the probability principle to assess whether trends contained in the research sample can be generalized to \n",
    "# the larger population from which the sample originally comes.\n",
    "# Inferential Statistics are intended to test hypotheses and investigate relationships between variables and can be used to make\n",
    "# population predictions.\n",
    "# Inferential Statistics are used to draw conclusions and inferences, i.e., to make valid generalizations from samples."
   ]
  },
  {
   "cell_type": "markdown",
   "id": "8c8bf36c-234f-4d8c-a21a-8f72756bf8b6",
   "metadata": {},
   "source": [
    "# Answer-3"
   ]
  },
  {
   "cell_type": "code",
   "execution_count": null,
   "id": "b845bf6c-730d-45be-871e-5c896091845a",
   "metadata": {},
   "outputs": [],
   "source": [
    "Data can be divided into quantitative and qualitative data\n",
    "\n",
    "Qualitative Data: They represent some characteristics or attributes. They depict descriptions that may be observed but cannot be computed\n",
    "or calculated. For example, data on attributes such as intelligence, honesty, wisdom, cleanliness, and creativity collected using the students \n",
    "of your class a sample would be classified as qualitative. They are more exploratory than conclusive in nature.\n",
    "\n",
    "Quantitative Data: These can be measured and not simply observed. They can be numerically represented and calculations can be performed\n",
    "on them. For example, data on the number of students playing different sports from your class gives an estimate of how many of the total \n",
    "students play which sport. This information is numerical and can be classified as quantitative.\n",
    "\n",
    "Qualitative Data Type\n",
    "Nominal\n",
    "Ordinal\n",
    "\n",
    "Quantitative Data Type\n",
    "Discrete\n",
    "Continuous\n",
    "\n",
    "1. Nominal data\n",
    "This type of qualitative data is descriptive. Accordingly, nominal data features information that doesn't have quantitative values.\n",
    "Unlike numbers, you can't compare this type of data or order them. Instead, it's common to group them into distinct categories. \n",
    "Here are some examples of nominal data:\n",
    "\n",
    "eye colour: brown, black or blue\n",
    "hair colour: black, brown, grey or blonde\n",
    "marital status: single, married, divorced or widowed\n",
    "\n",
    "2. Ordinal data\n",
    "Ordinal data is another type of qualitative data. Unlike nominal data, the values in this classification have a natural set order or scale. \n",
    "This means that some sets might have numerical values and that you can order them because they've got a relative position to one another.\n",
    "Here are some common examples of this type of data:\n",
    "\n",
    "surveys that ask you to rate an experience on a scale of one to 10\n",
    "letter grades for examination results, such as A, B, C and D\n",
    "economic status, such as high, middle or low\n",
    "education level, such as primary, secondary and tertiary\n",
    "\n",
    "3. Discrete data\n",
    "This is a type of quantitative data, which is information that has numerical values. Discrete data generally only consists of fixed values,\n",
    "such as integers and whole numbers. Decimals can occur in this category, for instance, if you're collecting data on the profits that a company\n",
    "earns. Impossible or unrealistic values, such as a shoe size of 5.72, don't constitute discrete data. Here are some examples of discrete data:\n",
    "\n",
    "the total number of students in a class\n",
    "the cost of a mobile phone\n",
    "the total number of employees in an organisation\n",
    "\n",
    "4. Continuous data\n",
    "Continuous data is the opposite of discrete data, featuring sequences that have the potential to go on infinitely. \n",
    "You can divide this type of data into smaller pieces, and fractional numbers are common in this category.\n",
    "Here are some examples of continuous data:\n",
    "\n",
    "the height of a person\n",
    "the weight of a ship\n",
    "the temperature of a room\n",
    "the speed of a vehicle\n",
    "the time taken to complete a task"
   ]
  },
  {
   "cell_type": "markdown",
   "id": "f7bc273d-ec3c-443b-8178-58684608bcdc",
   "metadata": {},
   "source": [
    "# Answer-4"
   ]
  },
  {
   "cell_type": "code",
   "execution_count": null,
   "id": "f1820bf9-37bb-4643-b2d7-cd8563b13369",
   "metadata": {},
   "outputs": [],
   "source": [
    "(i) Grading in exam: A+, A, B+, B, C+, C, D, E\n",
    "ans-ordinal data\n",
    "\n",
    "(ii) Colour of mangoes: yellow, green, orange, red\n",
    "ans-nominal data\n",
    "\n",
    "(iii) Height data of a class: [178.9, 179, 179.5, 176, 177.2, 178.3, 175.8,...]\n",
    "ans-continuous data\n",
    "\n",
    "(iv) Number of mangoes exported by a farm: [500, 600, 478, 672, ...]\n",
    "ans-discrete data"
   ]
  },
  {
   "cell_type": "markdown",
   "id": "377413e5-1de6-4409-a740-3e39373ca099",
   "metadata": {},
   "source": [
    "# Answer-5"
   ]
  },
  {
   "cell_type": "code",
   "execution_count": null,
   "id": "ad534577-824f-46e4-a014-eab434f69f26",
   "metadata": {},
   "outputs": [],
   "source": [
    "Levels of measurement are a way of classifying the type of data that can be collected and analyzed in statistics.\n",
    "Different levels of measurement have different properties and allow for different types of statistical methods.\n",
    "Here is a brief explanation of each level and some examples of variables that can be measured on each level:\n",
    "\n",
    "Nominal: This is the simplest level of measurement, where the data can only be categorized into groups, but there is no order or ranking between the groups.\n",
    "For example, gender, eye color, blood type, and political preference are nominal variables. You can only count how many people have each category, \n",
    "but you cannot compare them or calculate ratios. The only measure of central tendency that you can use for nominal variables is the mode, \n",
    "which is the most frequent category.\n",
    "\n",
    "Ordinal: This is a level of measurement where the data can be categorized and ranked in order, but there is no equal interval or distance between the ranks.\n",
    "For example, satisfaction, socioeconomic status, workplace status, and degree of pain are ordinal variables.\n",
    "You can count how many people have each rank, but you cannot calculate ratios or standard deviations.\n",
    "The only measure of central tendency that you can use for ordinal variables is the median, which is the middle value when the data is sorted.\n",
    "\n",
    "Interval: This is a level of measurement where the data can be categorized, ranked, and have equal intervals or distances between them,\n",
    "but there is no true zero point. For example, temperature in Celsius or Fahrenheit, test scores (e.g., IQ or exams), \n",
    "and personality inventories are interval variables. You can calculate ratios and standard deviations for interval variables,but you cannot use them to compare proportions or percentages.\n",
    "The only measure of central tendency that you can use for interval variables is the mean (arithmetic average), which is calculated by adding up all the values and dividing by the number of values.\n",
    "\n",
    "Ratio: This is the highest level of measurement where the data can be categorized, ranked, have equal intervals or distances between them,\n",
    "and have a true zero point that means an absence of the variable. For example, height in centimeters or inches, weight in kilograms or pounds,\n",
    "age in years or months (rounded to one decimal place), and income in dollars are ratio variables. \n",
    "You can use all types of statistical methods for ratio variables to compare proportions or percentages.\n"
   ]
  },
  {
   "cell_type": "markdown",
   "id": "bf80d551-cd16-452c-91a2-e1deb5449c49",
   "metadata": {},
   "source": [
    "# Answer-6"
   ]
  },
  {
   "cell_type": "code",
   "execution_count": null,
   "id": "929387c7-f544-41b8-98e2-0e113cc6b0b1",
   "metadata": {},
   "outputs": [],
   "source": [
    "It is important to understand the level of measurement when analyzing data because it affects the type of statistical tests and methods\n",
    "that can be applied to the data. Different levels of measurement have different properties and limitations, such as the number of categories,\n",
    "the order of categories, the equal intervals between categories, and the presence or absence of a true zero point.\n",
    "Depending on these properties, some statistical tests can only be used on certain levels of measurement, and some results may not be valid or meaningful.\n",
    "\n",
    "For example, if you have nominal data, which can only be categorized into mutually exclusive groups without any order or rank, \n",
    "you cannot use any inferential statistics such as t-tests or ANOVA.\n",
    "You can only use descriptive statistics such as frequencies and percentages to summarize your data.\n",
    "However, if you have ordinal data, which can be categorized and ranked in an order but without equal intervals between categories,\n",
    "you can use some inferential statistics such as median tests or Spearman’s rank correlation coefficient to compare your data.\n",
    "You can also use descriptive statistics such as median and mode to summarize your data."
   ]
  },
  {
   "cell_type": "markdown",
   "id": "43530b90-8813-4d6d-94cd-23dbd1617ba0",
   "metadata": {},
   "source": [
    "# Answer-7"
   ]
  },
  {
   "cell_type": "code",
   "execution_count": null,
   "id": "6b687b14-7785-4a77-b454-e42326134173",
   "metadata": {},
   "outputs": [],
   "source": [
    "Nominal data type is different from ordinal data type in the following ways:\n",
    "\n",
    "Nominal data type is a qualitative type of data that categorizes data by labeling or naming values, such as gender, hair color, or types of animal.\n",
    "Ordinal data type is also a qualitative type of data that classifies variables in a ranked order, such as social status in categories like ‘wealthy’, ‘middle income’, or ‘poor’.\n",
    "\n",
    "Nominal data type does not have any hierarchy or order among the categories. \n",
    "Ordinal data type has a clear hierarchy or order among the categories, but there are no set intervals between them.\n",
    "\n",
    "Nominal data type can only be analyzed by grouping variables into categories and calculating the distribution mode.\n",
    "Ordinal data type can be analyzed by using some inferential statistics such as median tests or Spearman’s rank correlation coefficient to compare the data.\n",
    "\n",
    "Nominal data type cannot be used for any inferential statistics such as t-tests or ANOVA. \n",
    "Ordinal data type can be used for some inferential statistics such as t-tests or ANOVA to compare the data."
   ]
  },
  {
   "cell_type": "markdown",
   "id": "94c6bee5-7636-439e-ad90-6544f0f7ae3e",
   "metadata": {},
   "source": [
    "# Answer-8"
   ]
  },
  {
   "cell_type": "code",
   "execution_count": null,
   "id": "25a2cc71-b551-4101-b606-4f5547ebb234",
   "metadata": {},
   "outputs": [],
   "source": [
    "One type of plot that can be used to display data in terms of range is a histogram.\n",
    "A histogram is a type of data plot that represents the frequency distribution of the values of a numerical variable"
   ]
  },
  {
   "cell_type": "markdown",
   "id": "abf907f4-8369-4ce5-83a9-b4e67df5cfa6",
   "metadata": {},
   "source": [
    "# Answer-9"
   ]
  },
  {
   "cell_type": "code",
   "execution_count": null,
   "id": "05e7f5da-db13-4864-85e2-e26373271fe8",
   "metadata": {},
   "outputs": [],
   "source": [
    "Descriptive statistics and inferential statistics are two branches of statistics that have different purposes and methods.\n",
    "Here is a brief summary of the difference between them:\n",
    "\n",
    "Descriptive statistics\n",
    "Descriptive statistics aim to describe a data set using summary statistics, graphs, and tables.\n",
    "They help us to understand the main features and patterns of the data, such as the mean, median, mode, range, standard deviation, frequency distribution, etc.\n",
    "Descriptive statistics do not allow us to make any conclusions or predictions about the population from which the data is drawn.\n",
    "\n",
    "Statistical inference\n",
    "Inferential statistics use a sample of data to draw inferences or make generalizations about the population from which the sample is drawn.\n",
    "They help us to test hypotheses, estimate parameters, compare groups, and predict outcomes based on statistical methods and tools.\n",
    "Inferential statistics involve probability theory and sampling techniques.\n",
    "\n",
    "For example, suppose you want to know the average height of adult men in a certain country.\n",
    "You can use descriptive statistics to calculate the mean height of a sample of men that you measure and report it as an estimate of the population mean.\n",
    "However, this estimate may not be accurate or precise because it is based on a limited sample size and may not reflect the true variability or distribution of heights in the population.\n",
    "\n",
    "Alternatively, you can use inferential statistics to conduct a hypothesis test or a confidence interval for the population mean based on your sample data.\n",
    "This will give you more information about how likely it is that your sample mean is equal to or different from the population mean, and how confident you are in your estimate. \n",
    "However, this method also has some limitations and assumptions that need to be checked before applying it."
   ]
  },
  {
   "cell_type": "markdown",
   "id": "34101c86-67a5-4b7e-98ce-06ba5948d905",
   "metadata": {},
   "source": [
    "# Answer-10"
   ]
  },
  {
   "cell_type": "code",
   "execution_count": null,
   "id": "ea1e730f-a1b1-4a39-b608-34fd84d4770e",
   "metadata": {},
   "outputs": [],
   "source": [
    "Common measures of central tendency:\n",
    "\n",
    "Mean: The mean is the sum of all values divided by the total number of values. It is often referred to as the “average”.\n",
    "It is used when data is normally distributed and there are no outliers.\n",
    "\n",
    "Median: The median is the middle number in an ordered dataset. If the dataset has an odd number of observations, the median is the middle number.\n",
    "If the dataset has an even number of observations, the median is the average of the two middle numbers. \n",
    "It is used when data is skewed or has outliers.\n",
    "\n",
    "Mode: The mode is the most frequent value in the dataset. It can be used with nominal data.\n",
    "It is the only measure of central tendency that can be used with categorical data.\n",
    "\n",
    "\n",
    "Common measures of variability:\n",
    "\n",
    "Range: The range is the difference between the highest and lowest values in the dataset. \n",
    "It gives a sense of the spread of the data but can be influenced by outliers.\n",
    "\n",
    "Interquartile Range (IQR): The IQR is the range of the middle half of a distribution.\n",
    "It is the difference between the first quartile (25th percentile) and the third quartile (75th percentile). \n",
    "It is used when the data is skewed or has outliers.\n",
    "\n",
    "Variance: Variance is the average of squared distances from the mean. It gives a sense of how much the data varies around the mean.\n",
    "\n",
    "Standard Deviation: The standard deviation is the square root of the variance.\n",
    "It is used when data is normally distributed and there are no outliers.\n",
    "It gives a sense of how much the data varies around the mean in the same units as the original data.\n",
    "\n",
    "\n",
    "These measures help to summarize and understand the dataset. \n",
    "The measures of central tendency give a single value that describes the “center” of the dataset,\n",
    "while the measures of variability define how far away the data points tend to fall from the center. \n",
    "They provide a complete picture of the dataset and are essential for data analysis"
   ]
  }
 ],
 "metadata": {
  "kernelspec": {
   "display_name": "Python 3 (ipykernel)",
   "language": "python",
   "name": "python3"
  },
  "language_info": {
   "codemirror_mode": {
    "name": "ipython",
    "version": 3
   },
   "file_extension": ".py",
   "mimetype": "text/x-python",
   "name": "python",
   "nbconvert_exporter": "python",
   "pygments_lexer": "ipython3",
   "version": "3.10.8"
  }
 },
 "nbformat": 4,
 "nbformat_minor": 5
}
